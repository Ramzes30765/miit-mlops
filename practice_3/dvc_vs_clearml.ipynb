{
 "cells": [
  {
   "cell_type": "markdown",
   "id": "4213b3bd",
   "metadata": {},
   "source": [
    "## DVC - Data version control"
   ]
  },
  {
   "cell_type": "markdown",
   "id": "2113b699",
   "metadata": {},
   "source": [
    "```\n",
    "pip install dvc\n",
    "git init\n",
    "dvc init\n",
    "```"
   ]
  },
  {
   "cell_type": "markdown",
   "id": "a2987568",
   "metadata": {},
   "source": [
    "## Инициализация"
   ]
  },
  {
   "cell_type": "markdown",
   "id": "758041eb",
   "metadata": {},
   "source": [
    "Что произойдёт:\n",
    "\n",
    "* `pip install dvc` - установится DVC\n",
    "\n",
    "* `git init` - создаст Git-репозиторий в текущей папке.\n",
    "\n",
    "* `dvc init` - ???\n",
    "\n",
    "Ожидаемый результат:\n",
    "\n",
    "* В папке появится .dvc/ (служебные файлы) и .dvcignore."
   ]
  },
  {
   "cell_type": "markdown",
   "id": "c60ec87d",
   "metadata": {},
   "source": [
    "## Добавление файлов"
   ]
  },
  {
   "cell_type": "markdown",
   "id": "e11fdda8",
   "metadata": {},
   "source": [
    "```\n",
    "dvc add data/\n",
    "git add data.dvc .gitignore\n",
    "git commit -m \"Add dataset v1\"\n",
    "```"
   ]
  },
  {
   "cell_type": "markdown",
   "id": "22079f62",
   "metadata": {},
   "source": [
    "Что произойдёт:\n",
    "* `dvc add data/` - ???\n",
    "* `git add data.dvc .gitignore` - ???\n",
    "* `git commit -m \"Add dataset v1\"` - ???\n",
    "\n",
    "Ожидаемый результат:\n",
    "\n",
    "* В папке появится data.dvc"
   ]
  },
  {
   "cell_type": "markdown",
   "id": "a9e402ae",
   "metadata": {},
   "source": [
    "## Версионирование"
   ]
  },
  {
   "cell_type": "markdown",
   "id": "dc2d6dad",
   "metadata": {},
   "source": [
    "* *Добавляем или изменяем файлы внутри data*\n",
    "\n",
    "```\n",
    "dvc status\n",
    "dvc commit data/\n",
    "git add data.dvc\n",
    "git commit -m \"Dataset v2\"\n",
    "```"
   ]
  },
  {
   "cell_type": "markdown",
   "id": "2cefd76b",
   "metadata": {},
   "source": [
    "Что произойдёт:\n",
    "\n",
    "* В data/ вносятся изменения (например, новые изображения).\n",
    "\n",
    "* dvc пересчитает хэш и обновит data.dvc.\n",
    "\n",
    "* Git зафиксирует новую версию data.dvc.\n",
    "\n",
    "Ожидаемый результат:\n",
    "\n",
    "* У вас появляется в истории Git два состояния датасета:\n",
    "\n",
    "* коммит Add dataset v1 (первая версия);\n",
    "\n",
    "* коммит Dataset v2 (обновлённая версия).\n",
    "\n",
    "* Можно откатиться на любую из них и восстановить соответствующие данные."
   ]
  },
  {
   "cell_type": "markdown",
   "id": "3d0b4d81",
   "metadata": {},
   "source": [
    "## Хранение во внешнем репозитории"
   ]
  },
  {
   "cell_type": "markdown",
   "id": "d8303b84",
   "metadata": {},
   "source": [
    "```\n",
    "dvc remote add -d myremote s3://bucket-name/path\n",
    "dvc <???>\n",
    "```"
   ]
  },
  {
   "cell_type": "markdown",
   "id": "99a78cf4",
   "metadata": {},
   "source": [
    "## Как переключиться на другую версию:"
   ]
  },
  {
   "cell_type": "markdown",
   "id": "03483009",
   "metadata": {},
   "source": [
    "```\n",
    "git checkout <commit_id>\n",
    "dvc <???>\n",
    "```"
   ]
  },
  {
   "cell_type": "markdown",
   "id": "ea69e494",
   "metadata": {},
   "source": [
    "# Clearml"
   ]
  },
  {
   "cell_type": "markdown",
   "id": "05df098b",
   "metadata": {},
   "source": [
    "`pip install clearml`"
   ]
  },
  {
   "cell_type": "markdown",
   "id": "1a9ef7e9",
   "metadata": {},
   "source": [
    "### Загрузка имеющегося датасета"
   ]
  },
  {
   "cell_type": "markdown",
   "id": "8c2c760d",
   "metadata": {},
   "source": [
    "```\n",
    "from clearml import Dataset\n",
    "\n",
    "dataset = Dataset.create(\n",
    "    dataset_name=\"demo_dataset\",\n",
    "    dataset_project=\"Seminar3\",\n",
    "    dataset_tags=[\"v1\", \"raw\"]\n",
    ")\n",
    "dataset.add_files(\"data/\")\n",
    "dataset.finalize()\n",
    "```"
   ]
  },
  {
   "cell_type": "markdown",
   "id": "af1e9187",
   "metadata": {},
   "source": [
    "Что произойдёт:\n",
    "\n",
    "* В UI ClearML появится новый артефакт типа Dataset.\n",
    "\n",
    "* В метаданных будут храниться список файлов, теги, описание.\n",
    "\n",
    "* ClearML версионирует все данные и сохранит в своём хранилище(по умолчанию — web-app, либо S3/MinIO/другое, если настроено).\n",
    "\n",
    "Ожидаемый результат:\n",
    "\n",
    "* У вас есть версия v1 датасета, видимая в ClearML UI.\n",
    "\n",
    "* В отличие от DVC, вам не нужно отдельно думать про git push или dvc push: данные уже доступны для команды."
   ]
  },
  {
   "cell_type": "markdown",
   "id": "523d1c44",
   "metadata": {},
   "source": [
    "### Загрузка имеющегося датасета"
   ]
  },
  {
   "cell_type": "markdown",
   "id": "c5529ade",
   "metadata": {},
   "source": [
    "```\n",
    "from clearml import Dataset\n",
    "\n",
    "dataset = Dataset.get(dataset_name='demo_dataset')\n",
    "local_path = dataset.get_mutable_local_copy(target_folder='/some/data/path/')\n",
    "print(local_path)\n",
    "```"
   ]
  },
  {
   "cell_type": "markdown",
   "id": "a873a42e",
   "metadata": {},
   "source": [
    "Что произойдёт\n",
    "\n",
    "* Dataset.get(...) найдёт датасет в ClearML (по имени или ID).\n",
    "\n",
    "* get_mutable_local_copy(...) скачаeт файлы датасета в указанную папку /some/data/path/.\n",
    "\n",
    "* В отличие от get_local_copy, копия будет «mutable» → то есть можно будет модифицировать файлы и потом залить обновлённую версию.\n",
    "\n",
    "Ожидаемый результат\n",
    "\n",
    "* На локальной машине появится папка /some/data/path/ с файлами датасета.\n",
    "\n",
    "* Можно открывать, редактировать или добавлять новые данные."
   ]
  },
  {
   "cell_type": "markdown",
   "id": "ca9ca949",
   "metadata": {},
   "source": [
    "### Обновление имеющегося датасета"
   ]
  },
  {
   "cell_type": "markdown",
   "id": "07118f1b",
   "metadata": {},
   "source": [
    "```\n",
    "from clearml import Dataset\n",
    "\n",
    "dataset = Dataset.get(dataset_name='demo_dataset')\n",
    "\n",
    "dataset.add_files('/some/data/path/')\n",
    "dataset.set_description(\"Update dataset\")\n",
    "dataset.add_tags(['tag1', 'tag2', 'tag3'])\n",
    "dataset.upload()\n",
    "dataset.finalize()\n",
    "print(\"Upload successful\")\n",
    "```"
   ]
  },
  {
   "cell_type": "markdown",
   "id": "e828ec1a",
   "metadata": {},
   "source": [
    "Что произойдёт\n",
    "\n",
    "* add_files(...) — новые или изменённые файлы добавятся в датасет.\n",
    "\n",
    "* set_description(...) — обновится текстовое описание (видно в UI).\n",
    "\n",
    "* add_tags(...) — новые теги помогут искать и фильтровать датасеты.\n",
    "\n",
    "* upload() — реальные данные загрузятся в хранилище ClearML (например, S3 или локальное).\n",
    "\n",
    "* finalize() — создастся новая версия датасета (например, demo_dataset v2). Старая версия (v1) при этом останется доступной.\n",
    "\n",
    "Ожидаемый результат\n",
    "\n",
    "* В ClearML появится новая версия датасета (v2), связанная с предыдущей.\n",
    "\n",
    "* В UI можно будет увидеть описание и теги.\n",
    "\n",
    "* В хранилище ClearML появятся новые файлы.\n",
    "\n",
    "* Эксперименты теперь смогут использовать обновлённую версию."
   ]
  }
 ],
 "metadata": {
  "language_info": {
   "name": "python"
  }
 },
 "nbformat": 4,
 "nbformat_minor": 5
}
