{
 "cells": [
  {
   "cell_type": "markdown",
   "id": "5862800b",
   "metadata": {},
   "source": [
    "\n",
    "# Семинар: ClearML `Dataset` — практическое руководство (SDK)\n",
    "\n",
    "Этот ноутбук превращает страницу документации **ClearML Dataset SDK** в структурированный практический конспект с примерами кода, комментариями, объяснениями параметров и ожидаемыми результатами."
   ]
  },
  {
   "cell_type": "markdown",
   "id": "99bea7c7",
   "metadata": {},
   "source": [
    "\n",
    "## Содержание\n",
    "1. [Подготовка окружения](#prep)\n",
    "2. [Концепции и жизненный цикл датасета](#concepts)\n",
    "3. [Создание: `Dataset.create`](#create)\n",
    "4. [Получение: `Dataset.get` / `Dataset.list_datasets`](#get)\n",
    "5. [Обновление версии: `Dataset.update`](#update)\n",
    "6. [Добавление/удаление файлов: `add_files`, `add_external_files`, `remove_files`](#addremove)\n",
    "7. [Метаданные: `set_description`, `add_tags`, `remove_tags`](#meta)\n",
    "8. [Загрузка и фиксация: `upload`, `finalize`](#upload)\n",
    "9. [Локальная копия: `get_local_copy`, `get_mutable_local_copy`](#localcopy)\n",
    "10. [Инспекция содержимого: `list_added_files`, `list_removed_files`, `list_files`](#inspect)\n"
   ]
  },
  {
   "cell_type": "markdown",
   "id": "a285e877",
   "metadata": {},
   "source": [
    "\n",
    "<a id=\"prep\"></a>\n",
    "\n",
    "## 1. Подготовка окружения\n",
    "\n",
    "- Установите пакет: `pip install clearml`\n",
    "- Привяжите SDK к серверу: `clearml-init` (введите **API credentials** и **server URL**)\n",
    "- (Опционально) Подключите S3/MinIO в `clearml.conf` или через переменные окружения.\n",
    "\n",
    "**Ожидаемый результат:** команды SDK смогут создавать/получать датасеты, загружать файлы, а локальный кэш будет автоматически управляться ClearML.\n"
   ]
  },
  {
   "cell_type": "code",
   "execution_count": null,
   "id": "3ce81630",
   "metadata": {},
   "outputs": [],
   "source": [
    "\n",
    "# !pip install clearml  # раскомментируйте при необходимости\n",
    "\n",
    "from clearml import Dataset, Task\n",
    "\n",
    "print(\"Импорт выполнен. Готово к работе с ClearML Dataset SDK.\")"
   ]
  },
  {
   "cell_type": "markdown",
   "id": "e0c8cb15",
   "metadata": {},
   "source": [
    "\n",
    "<a id=\"concepts\"></a>\n",
    "\n",
    "## 2. Концепции и жизненный цикл датасета\n",
    "\n",
    "- **Версия датасета** — неизменяемый слепок набора файлов + метаданные.\n",
    "- **Происхождение(Lineage)** — связь версий: каждая новая версия ссылается на родительские.\n",
    "- **Финализация** — момент «заморозки» версии (после `finalize()` версия становится read‑only).\n",
    "- **Хранилище** — File Server ClearML или внешнее (S3/MinIO/…); управление кэшем — прозрачно.\n"
   ]
  },
  {
   "cell_type": "markdown",
   "id": "ee011732",
   "metadata": {},
   "source": [
    "\n",
    "<a id=\"create\"></a>\n",
    "\n",
    "## 3. Создание: `Dataset.create`\n",
    "\n",
    "```python\n",
    "Dataset.create(\n",
    "    dataset_name: str,\n",
    "    dataset_project: str = None,\n",
    "    dataset_tags: list[str] = None,\n",
    "    parent_datasets: list[str] = None,\n",
    "    description: str = None,\n",
    "    readonly: bool = False,\n",
    "    use_current_task: bool = False,\n",
    "    dataset_id: str = None,    # обычно не указывают при создании\n",
    ")\n",
    "```\n",
    "**Назначение:** создать *новую* рабочую версию датасета (до финализации её можно наполнять файлами и метаданными).\n",
    "\n",
    "**Ключевые параметры:**\n",
    "- `dataset_name` — логичное имя набора (например, \"Cars-Detections\").\n",
    "- `dataset_project` — пространство проектов в ClearML (для группировки).\n",
    "- `dataset_tags` — пользовательские ярлыки (быстрый поиск/фильтрация).\n",
    "- `parent_datasets` — список ID родительских версий (наследование содержимого).\n",
    "- `description` — текстовое описание изменений.\n",
    "- `use_current_task` — связать датасет с текущей Task (удобно для пайплайнов).\n"
   ]
  },
  {
   "cell_type": "code",
   "execution_count": null,
   "id": "af5e9011",
   "metadata": {},
   "outputs": [],
   "source": [
    "ds = Dataset.create(\n",
    "    dataset_name=\"demo_dataset\",\n",
    "    dataset_project=\"Seminar3\",\n",
    "    dataset_tags=[\"raw\", \"v1\"],\n",
    "    description=\"Initial raw drop\"\n",
    ")\n",
    "print(f\"Создан черновик датасета: id={ds.id}, name={ds.name}\")\n"
   ]
  },
  {
   "cell_type": "markdown",
   "id": "260e43df",
   "metadata": {},
   "source": [
    "\n",
    "<a id=\"get\"></a>\n",
    "\n",
    "## 4. Получение: `Dataset.get` / `Dataset.list_datasets`\n",
    "\n",
    "```python\n",
    "Dataset.get(\n",
    "    dataset_id: str = None,\n",
    "    dataset_name: str = None,\n",
    "    dataset_project: str = None,\n",
    "    tags: list[str] = None,\n",
    "    only_completed: bool = False,  # искать только финализированные версии\n",
    ")\n",
    "```\n",
    "\n",
    "```python\n",
    "Dataset.list_datasets(\n",
    "    dataset_project: str = None,\n",
    "    dataset_name: str = None,\n",
    "    only_completed: bool = False,\n",
    "    tags: list[str] = None,\n",
    "    partial_match: bool = False,\n",
    ")\n",
    "```\n",
    "**Назначение:** искать и получать существующие версии по `id`/имени/тегам/проекту.\n",
    "\n",
    "**Ожидаемый результат:** найден объект датасета (последняя версия при совпадении имени) или список версий для инспекции.\n"
   ]
  },
  {
   "cell_type": "code",
   "execution_count": null,
   "id": "15f4b8c0",
   "metadata": {},
   "outputs": [],
   "source": [
    "\n",
    "# Поиск последней версии по имени/проекту\n",
    "found = Dataset.get(dataset_name=\"demo_dataset\", dataset_project=\"Seminar3\")\n",
    "print(f\"Найдена версия: id={found.id}, name={found.name}\")\n",
    "\n",
    "# Листинг всех версий (включая незавершённые)\n",
    "versions = Dataset.list_datasets(dataset_name=\"demo_dataset\", dataset_project=\"Seminar3\", only_completed=False)\n",
    "print(\"Всего найдено версий:\", len(versions))\n",
    "for v in versions:\n",
    "    print(\"-\", v)\n"
   ]
  },
  {
   "cell_type": "markdown",
   "id": "f5c6cce9",
   "metadata": {},
   "source": [
    "\n",
    "<a id=\"update\"></a>\n",
    "\n",
    "## 5. Обновление версии: `Dataset.update`\n",
    "\n",
    "```python\n",
    "Dataset.update(dataset_id: str)\n",
    "```\n",
    "**Назначение:** создать **новую версию** на основе существующей (аналог «commit» для данных).\n",
    "\n",
    "**Ожидаемый результат:** появляется новая рабочая версия, связанная с предыдущей в lineage. После наполнения — `finalize()`.\n"
   ]
  },
  {
   "cell_type": "code",
   "execution_count": null,
   "id": "79801714",
   "metadata": {},
   "outputs": [],
   "source": [
    "\n",
    "base = Dataset.get(dataset_name=\"demo_dataset\", dataset_project=\"Seminar3\")\n",
    "updated = Dataset.update(dataset_id=base.id)\n",
    "print(f\"Создана новая версия на основе {base.id}: new_id={updated.id}\")\n"
   ]
  },
  {
   "cell_type": "markdown",
   "id": "9ca66592",
   "metadata": {},
   "source": [
    "\n",
    "<a id=\"addremove\"></a>\n",
    "\n",
    "## 6. Добавление/удаление файлов\n",
    "\n",
    "### `add_files`\n",
    "```python\n",
    "dataset.add_files(\n",
    "    path: str | list[str],\n",
    "    dataset_path: str | None = None,  # куда поместить внутри датасета\n",
    "    recursive: bool = True,\n",
    "    verbose: bool = False,\n",
    ")\n",
    "```\n",
    "**Назначение:** добавить локальные файлы/папки в текущую рабочую версию.\n",
    "\n",
    "### `add_external_files`\n",
    "```python\n",
    "dataset.add_external_files(\n",
    "    source_url: str | list[str],      # ссылки: s3://, gs://, http(s)://, azure:// ...\n",
    "    dataset_path: str | None = None,\n",
    "    overwrite: bool = False,\n",
    "    verbose: bool = False,\n",
    ")\n",
    "```\n",
    "**Назначение:** добавить файлы по внешним URL без предварительного локального скачивания (перекладывает в сторидж датасета).\n",
    "\n",
    "### `remove_files`\n",
    "```python\n",
    "dataset.remove_files(\n",
    "    path: str | list[str],            # путь внутри датасета (а не локальный путь)\n",
    "    recursive: bool = True,\n",
    "    verbose: bool = False,\n",
    ")\n",
    "```\n",
    "**Назначение:** удалить ранее добавленные файлы/папки из рабочей версии.\n",
    "\n",
    "**Ожидаемый результат:** состояние рабочей версии обновлено; сами данные будут загружены/синхронизированы на этапе `upload()`/`finalize()`.\n"
   ]
  },
  {
   "cell_type": "code",
   "execution_count": null,
   "id": "06cc1028",
   "metadata": {},
   "outputs": [],
   "source": [
    "\n",
    "# Примеры (папки и пути — плейсхолдеры)\n",
    "updated.add_files(path=\"data/train/\", dataset_path=\"images/train\", verbose=True)\n",
    "updated.add_external_files(source_url=[\"s3://bucket/imgs/a.jpg\", \"https://host/path/b.jpg\"],\n",
    "                           dataset_path=\"images/ext\", verbose=True)\n",
    "updated.remove_files(path=\"images/old/\", recursive=True, verbose=True)\n",
    "print(\"Изменения в рабочей версии подготовлены.\")\n"
   ]
  },
  {
   "cell_type": "markdown",
   "id": "baf27e35",
   "metadata": {},
   "source": [
    "\n",
    "<a id=\"meta\"></a>\n",
    "\n",
    "## 7. Метаданные: описание и теги\n",
    "\n",
    "```python\n",
    "dataset.set_description(text: str)\n",
    "dataset.add_tags(tags: list[str])\n",
    "dataset.remove_tags(tags: list[str])\n",
    "```\n",
    "**Назначение:** задокументировать изменения и облегчить поиск.\n",
    "\n",
    "**Ожидаемый результат:** в UI у версии появится описание и теги; ими удобно фильтровать и отслеживать историю.\n"
   ]
  },
  {
   "cell_type": "code",
   "execution_count": null,
   "id": "2dad6f75",
   "metadata": {},
   "outputs": [],
   "source": [
    "\n",
    "updated.set_description(\"Cleaned files, added external images, reorganized folders\")\n",
    "updated.add_tags([\"v2\", \"clean\", \"augmented\"])\n",
    "# updated.remove_tags([\"deprecated\"])  # пример\n",
    "print(\"Метаданные обновлены.\")\n"
   ]
  },
  {
   "cell_type": "markdown",
   "id": "7abda6f6",
   "metadata": {},
   "source": [
    "\n",
    "<a id=\"upload\"></a>\n",
    "\n",
    "## 8. Загрузка и фиксация: `upload`, `finalize`\n",
    "\n",
    "```python\n",
    "dataset.upload(\n",
    "    storage_uri: str | None = None,   # если не задано, используется конфиг ClearML (files_server/S3/...)\n",
    "    verbose: bool = False,\n",
    ")\n",
    "dataset.finalize(verbose: bool = False)\n",
    "```\n",
    "**Назначение:**\n",
    "- `upload()` — физическая загрузка добавленных/изменённых файлов в хранилище ClearML.\n",
    "- `finalize()` — «закрыть» версию; после этого изменения недопустимы (версия immutable).\n",
    "\n",
    "**Ожидаемый результат:** новая версия появится в UI как **Completed**; станет доступна по ID/тегам/имени для скачивания и использования в экспериментах.\n"
   ]
  },
  {
   "cell_type": "code",
   "execution_count": null,
   "id": "44176a6b",
   "metadata": {},
   "outputs": [],
   "source": [
    "updated.upload(verbose=True)   # можно указать storage_uri=\"s3://bucket/prefix\"\n",
    "updated.finalize()\n",
    "print(\"Версия финализирована и готова к использованию.\")\n"
   ]
  },
  {
   "cell_type": "markdown",
   "id": "02a76aa9",
   "metadata": {},
   "source": [
    "\n",
    "<a id=\"localcopy\"></a>\n",
    "\n",
    "## 9. Локальная копия: `get_local_copy`, `get_mutable_local_copy`\n",
    "\n",
    "```python\n",
    "Dataset.get(...).get_local_copy(\n",
    "    extract_archive: bool = True,\n",
    "    force: bool = False,\n",
    ") -> str\n",
    "```\n",
    "**Назначение:** скачать **read‑only** копию версии в локальный кэш; вернуть путь к папке с данными.\n",
    "\n",
    "```python\n",
    "Dataset.get(...).get_mutable_local_copy(\n",
    "    target_folder: str | Path = None,\n",
    "    overwrite: bool = False,\n",
    ") -> str\n",
    "```\n",
    "**Назначение:** получить **редактируемую** локальную копию (в указанную папку), удобно для внесения правок перед `update()`.\n",
    "\n",
    "**Ожидаемый результат:** появится локальная директория с данными. Повторные вызовы — быстрые, за счёт кэша.\n"
   ]
  },
  {
   "cell_type": "code",
   "execution_count": null,
   "id": "53cb78d4",
   "metadata": {},
   "outputs": [],
   "source": [
    "\n",
    "# Read-only копия\n",
    "ro_path = Dataset.get(dataset_name=\"demo_dataset\", dataset_project=\"Seminar3\").get_local_copy()\n",
    "print(\"Read-only кэш:\", ro_path)\n",
    "\n",
    "# Редактируемая копия в указанную папку\n",
    "rw_path = Dataset.get(dataset_name=\"demo_dataset\", dataset_project=\"Seminar3\").get_mutable_local_copy(\n",
    "    target_folder=\"/tmp/demo_dataset_v2\", overwrite=False\n",
    ")\n",
    "print(\"Mutable копия:\", rw_path)\n"
   ]
  },
  {
   "cell_type": "markdown",
   "id": "fd007fd5",
   "metadata": {},
   "source": [
    "\n",
    "<a id=\"inspect\"></a>\n",
    "\n",
    "## 10. Инспекция содержимого\n",
    "\n",
    "Доступные вспомогательные методы могут отличаться по версиям SDK. Чаще всего используются:\n",
    "\n",
    "- `Dataset.list_datasets(...)` — увидеть версии/фильтровать по тегам/статусу.\n",
    "- `Dataset.get(...).list_files()` — перечислить файлы версии (если поддерживается SDK).\n",
    "- `Dataset.get(...).list_added_files()` / `list_removed_files()` — изменения относительно родителей (если поддерживается SDK).\n",
    "\n",
    "**Ожидаемый результат:** текстовые списки/таблицы в выводе, удобные для аудита и автоматических проверок.\n"
   ]
  },
  {
   "cell_type": "code",
   "execution_count": null,
   "id": "0d9762b9",
   "metadata": {},
   "outputs": [],
   "source": [
    "current = Dataset.get(dataset_name=\"demo_dataset\", dataset_project=\"Seminar3\")\n",
    "try:\n",
    "    files = current.list_files()\n",
    "    print(\"Всего файлов:\", len(files))\n",
    "    print(\"Примеры путей:\")\n",
    "    for p in files[:10]:\n",
    "        print(\" -\", p)\n",
    "except Exception as e:\n",
    "    print(\"list_files() недоступен в данной версии SDK/сервере:\", e)\n"
   ]
  }
 ],
 "metadata": {
  "language_info": {
   "name": "python"
  }
 },
 "nbformat": 4,
 "nbformat_minor": 5
}
