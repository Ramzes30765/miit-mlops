{
 "cells": [
  {
   "cell_type": "code",
   "execution_count": null,
   "id": "df023cb8",
   "metadata": {},
   "outputs": [],
   "source": [
    "# pip install fastapi uvicorn[standard]"
   ]
  },
  {
   "cell_type": "markdown",
   "id": "81c19674",
   "metadata": {},
   "source": [
    "# 0. Базовое FastAPI-приложение"
   ]
  },
  {
   "cell_type": "markdown",
   "id": "64a21624",
   "metadata": {},
   "source": [
    "## 1. Введение"
   ]
  },
  {
   "cell_type": "markdown",
   "id": "d7ca2e53",
   "metadata": {},
   "source": [
    "FastAPI — это современный фреймворк для создания веб-сервисов на Python, разработанный с упором на **высокую производительность**, **типобезопасность** и **автоматическую генерацию документации** по спецификации OpenAPI.\n",
    "\n",
    "Он используется в MLOps-практике как интерфейсный слой, через который модели машинного обучения становятся доступными внешним системам — например, через HTTP-запросы или REST API."
   ]
  },
  {
   "cell_type": "markdown",
   "id": "9fffb51f",
   "metadata": {},
   "source": [
    "## 2. Инициализация проекта\n",
    "\n",
    "Каждое приложение FastAPI представляет собой обычный Python-пакет, внутри которого создаётся экземпляр класса `FastAPI`. Этот объект и есть точка входа в веб-приложение.\n",
    "Для удобства проект оформляется в виде пакета `app`, где файл `main.py` содержит минимальный код инициализации.\n",
    "\n",
    "Пример структуры:\n",
    "\n",
    "```\n",
    "fastapi-practice/\n",
    " ├── app/\n",
    " │    └── main.py\n",
    " └── .venv/\n",
    "```"
   ]
  },
  {
   "cell_type": "markdown",
   "id": "63b5f3f9",
   "metadata": {},
   "source": [
    "## 3. Минимальный пример кода\n",
    "\n",
    "```python\n",
    "from fastapi import FastAPI\n",
    "\n",
    "app = FastAPI()\n",
    "\n",
    "@app.get(\"/\")\n",
    "async def root():\n",
    "    return {\"message\": \"Hello World\"}\n",
    "```"
   ]
  },
  {
   "cell_type": "markdown",
   "id": "837e0412",
   "metadata": {},
   "source": [
    "В этом примере:\n",
    "\n",
    "* `app = FastAPI()` — создаёт объект приложения;\n",
    "* декоратор `@app.get(\"/\")` регистрирует HTTP-маршрут `GET /`;\n",
    "* асинхронная функция-обработчик (`async def`) возвращает словарь, который FastAPI автоматически сериализует в **JSON**-ответ;\n",
    "* документация и схема API генерируются автоматически на основе аннотаций типов и сигнатур функций."
   ]
  },
  {
   "cell_type": "markdown",
   "id": "d37f4c34",
   "metadata": {},
   "source": [
    "## 4. Запуск и проверка\n",
    "\n",
    "Сервер запускается командой:\n",
    "\n",
    "```bash\n",
    "uvicorn app.main:app --reload\n",
    "```\n",
    "\n",
    "* `app.main:app` — путь к объекту `app` внутри модуля `app/main.py`;\n",
    "* `--reload` включает автоматическую перезагрузку при изменениях кода (для разработки).\n",
    "\n",
    "После запуска:\n",
    "\n",
    "* Главная страница доступна по адресу `http://127.0.0.1:8000/`;\n",
    "* Автоматическая документация — по адресу\n",
    "  **Swagger UI:** `http://127.0.0.1:8000/docs`;\n",
    "  **OpenAPI JSON:** `http://127.0.0.1:8000/openapi.json`.\n",
    "\n",
    "При обращении к `GET /` сервер вернёт:\n",
    "\n",
    "```json\n",
    "{\"message\": \"Hello World\"}\n",
    "```"
   ]
  },
  {
   "cell_type": "markdown",
   "id": "7aacfea7",
   "metadata": {},
   "source": [
    "# 1. Параметры маршрутов (path и query)"
   ]
  },
  {
   "cell_type": "markdown",
   "id": "312025ea",
   "metadata": {},
   "source": [
    "## 1. Общая идея\n",
    "\n",
    "Любое API-приложение должно принимать входные данные. В FastAPI существует два базовых типа параметров:\n",
    "\n",
    "Path параметры — часть пути (например, `/items/42`), обычно обозначают уникальные ресурсы.\n",
    "\n",
    "Query параметры — часть строки после знака ? (например, `/search?q=cat&limit=5`), описывают фильтры, сортировки, лимиты и т. п.\n",
    "\n",
    "FastAPI автоматически валидаирует типы параметров на основе аннотаций Python и добавляет их описание в документацию Swagger."
   ]
  },
  {
   "cell_type": "markdown",
   "id": "e46d863a",
   "metadata": {},
   "source": [
    "### Path-параметры (параметры пути)\n",
    "\n",
    "Path — это часть пути запроса, прямо встроенная в сам адрес (в \"тело\" URL).\n",
    "Она описывает конкретный ресурс или объект, к которому мы обращаемся."
   ]
  },
  {
   "cell_type": "code",
   "execution_count": null,
   "id": "40ba5e96",
   "metadata": {},
   "outputs": [],
   "source": [
    "@app.get(\"/items/{item_id}\")\n",
    "async def get_item(item_id: int):\n",
    "    return {\"item_id\": item_id}"
   ]
  },
  {
   "cell_type": "markdown",
   "id": "7df06244",
   "metadata": {},
   "source": [
    "FastAPI автоматически достаёт `item_id` из адреса (`/items/42`) и подставляет его в аргумент функции.\n",
    "\n",
    "Если пользователь введёт `/items/abc`, а тип задан как `int`, — FastAPI вернёт ошибку `422` (валидация типов)."
   ]
  },
  {
   "cell_type": "markdown",
   "id": "631b4f48",
   "metadata": {},
   "source": [
    "### Query-параметры (параметры запроса)\n",
    "\n",
    "Query — это дополнительные параметры, которые идут после знака `?` в URL.\n",
    "\n",
    "Они не указывают на конкретный ресурс, а уточняют, как или что именно нужно получить."
   ]
  },
  {
   "cell_type": "code",
   "execution_count": null,
   "id": "94c0b602",
   "metadata": {},
   "outputs": [],
   "source": [
    "@app.get(\"/search\")\n",
    "async def search_items(q: str, limit: int = 10):\n",
    "    return {\"query\": q, \"limit\": limit}"
   ]
  },
  {
   "cell_type": "markdown",
   "id": "5aacc418",
   "metadata": {},
   "source": [
    "Query-параметры:\n",
    "\n",
    "* всегда передаются после ?;\n",
    "* могут быть в любом порядке;\n",
    "* могут быть необязательными;\n",
    "* можно передавать несколько сразу (?page=2&sort=asc)."
   ]
  },
  {
   "cell_type": "markdown",
   "id": "65d2556e",
   "metadata": {},
   "source": [
    "`GET /users/15/history?limit=3&order=desc`\n",
    "\n",
    "`Path: /users/15/history`\n",
    "\n",
    "`Querry: ?limit=3&order=desc`"
   ]
  },
  {
   "cell_type": "code",
   "execution_count": null,
   "id": "7fdf31e2",
   "metadata": {},
   "outputs": [],
   "source": [
    "from fastapi import FastAPI, Query, Path\n",
    "\n",
    "@app.get(\"/users/{user_id}/items\")\n",
    "async def get_user_items(\n",
    "    user_id: int = Path(..., description=\"ID пользователя\"),\n",
    "    category: str | None = Query(None, description=\"Фильтр по категории\"),\n",
    "    limit: int = Query(10, ge=1, le=100, description=\"Максимальное число элементов\")\n",
    "):\n",
    "    pass"
   ]
  },
  {
   "cell_type": "markdown",
   "id": "ac0e1598",
   "metadata": {},
   "source": [
    "## 2. Что такое роутер в FastAPI\n",
    "\n",
    "Роутер (Router) — это модуль, который группирует несколько эндпоинтов (маршрутов), обычно относящихся к одной логической части приложения.\n",
    "\n",
    "`APIRouter` — это способ вынести маршруты в отдельные файлы и потом подключить их в основное приложение."
   ]
  },
  {
   "cell_type": "markdown",
   "id": "fba0f924",
   "metadata": {},
   "source": [
    "```\n",
    "app/\n",
    " ├── main.py\n",
    " └── api/\n",
    "     ├── users.py\n",
    "     └── items.py\n",
    "```"
   ]
  },
  {
   "cell_type": "code",
   "execution_count": null,
   "id": "d72e79dd",
   "metadata": {},
   "outputs": [],
   "source": [
    "# app/api/users.py\n",
    "from fastapi import APIRouter\n",
    "\n",
    "router = APIRouter(prefix=\"/users\", tags=[\"Users\"])\n",
    "\n",
    "@router.get(\"/\")\n",
    "def list_users():\n",
    "    return [{\"id\": 1, \"name\": \"Alice\"}]\n",
    "\n",
    "@router.get(\"/{user_id}\")\n",
    "def get_user(user_id: int):\n",
    "    return {\"id\": user_id, \"name\": f\"User {user_id}\"}"
   ]
  },
  {
   "cell_type": "code",
   "execution_count": null,
   "id": "9fb98513",
   "metadata": {},
   "outputs": [],
   "source": [
    "# app/api/items.py\n",
    "from fastapi import APIRouter\n",
    "\n",
    "router = APIRouter(prefix=\"/items\", tags=[\"Items\"])\n",
    "\n",
    "@router.get(\"/\")\n",
    "def list_items():\n",
    "    return [{\"id\": 1, \"title\": \"Book\"}]\n"
   ]
  },
  {
   "cell_type": "code",
   "execution_count": null,
   "id": "093a1a20",
   "metadata": {},
   "outputs": [],
   "source": [
    "# app/main.py\n",
    "\n",
    "from fastapi import FastAPI\n",
    "from app.api import users, items\n",
    "\n",
    "app = FastAPI(title=\"Modular FastAPI Example\")\n",
    "\n",
    "app.include_router(users.router)\n",
    "app.include_router(items.router)\n"
   ]
  },
  {
   "cell_type": "markdown",
   "id": "d606bc54",
   "metadata": {},
   "source": [
    "## 3. Pydantic BaseModel\n",
    "\n",
    "BaseModel — это базовый класс Pydantic, который описывает структуру, типы и ограничения данных.\n",
    "\n",
    "Он используется для проверки входных данных и формирования корректных ответов API.\n",
    "\n",
    "Каждая модель на основе BaseModel:\n",
    "\n",
    "* проверяет типы данных (int, str, float и т. д.);\n",
    "* применяет валидацию (например, min_length, ge, EmailStr);\n",
    "* автоматически документируется в Swagger UI;\n",
    "* гарантирует, что сервис не примет и не вернёт “грязные” данные."
   ]
  },
  {
   "cell_type": "markdown",
   "id": "72516e3c",
   "metadata": {},
   "source": [
    "```\n",
    "app/\n",
    " ├── main.py\n",
    " ├── api/\n",
    " │    ├── users.py\n",
    " │    └── items.py\n",
    " └── models/\n",
    "      └── schemas.py\n",
    " ```"
   ]
  },
  {
   "cell_type": "markdown",
   "id": "e3f867e0",
   "metadata": {},
   "source": [
    "```py\n",
    "class ItemBase(BaseModel):\n",
    "    \"\"\"Базовые поля, общие для всех схем предмета.\"\"\"\n",
    "    title: str = Field(..., min_length=1, max_length=100, description=\"Название предмета\")\n",
    "    description: Optional[str] = Field(None, max_length=300, description=\"Описание предмета\")\n",
    "```"
   ]
  },
  {
   "cell_type": "markdown",
   "id": "70ee86bf",
   "metadata": {},
   "source": [
    "## Перечень типовых сценариев взаимодействия FastAPI в ML-сервисах:\n",
    "\n",
    "1. **Загрузка изображения (единичный инференс)**\n",
    "\n",
    "   *Вход:* `UploadFile` (тип multipart/form-data).\n",
    "\n",
    "   *Выход:* `JSONResponse` при возврате предсказаний (метки, вероятности) либо `Response` с `media_type=\"image/png|jpeg\"` при возврате визуализированного результата.\n",
    "\n",
    "   `UploadFile` обеспечивает потоковую обработку и минимальное использование памяти; multipart является стандартом для клиентских SDK и браузеров.\n",
    "\n",
    "2. **Потоковое видео (одиночный источник)**\n",
    "\n",
    "   *Вход:* строковый параметр с URI (`rtsp://`, `http://`) или `UploadFile` при передаче файла.\n",
    "\n",
    "   *Выход:* `StreamingResponse` с генератором кадров, `media_type=\"multipart/x-mixed-replace\"` (MJPEG) либо `video/mp4` при упаковке потока.\n",
    "   \n",
    "   Обеспечивает последовательную передачу кадров без полной буферизации и минимальную задержку.\n",
    "\n",
    "3. **NumPy-массивы и числовые данные (классические ML-модели)**\n",
    "   \n",
    "   *Вход:*\n",
    "   — `BaseModel` с полями `list[float]` или `list[list[float]]` при работе с малым объёмом данных (JSON);\n",
    "   — `UploadFile`/`bytes` с бинарным содержимым `.npy`/`.npz` при больших массивах.\n",
    "   \n",
    "   *Выход:*\n",
    "   — `FileResponse`/`Response`\n",
    "   \n",
    "   JSON-сериализация удобна, но неэффективна для крупных матриц; бинарные форматы сохраняют точность и ускоряют ввод-вывод.\n",
    "\n",
    "4. **Обработка текста (NLP-модели, классификация, генерация)**\n",
    "   \n",
    "   *Вход:* `BaseModel` или `Form(...)` со строковыми полями.\n",
    "   \n",
    "   *Выход:* `JSONResponse` при возврате токенов, меток, вероятностей или `StreamingResponse` при поэтапной генерации текста (например, для чат-моделей).\n",
    "   \n",
    "   Текстовые данные естественно сериализуются в JSON; при генерации в реальном времени применяется потоковая передача фрагментов вывода."
   ]
  },
  {
   "cell_type": "markdown",
   "id": "5df509ec",
   "metadata": {},
   "source": [
    "В обобщённом виде:\n",
    "`UploadFile` предназначен для бинарных данных (изображения, аудио, видео)\n",
    "\n",
    "`BaseModel` — для структурированных текстовых и числовых данных\n",
    "\n",
    "`StreamingResponse` и `WebSocket` — для потоковых сценариев"
   ]
  },
  {
   "cell_type": "markdown",
   "id": "e5cb7a5a",
   "metadata": {},
   "source": [
    "## Самостоятельная работа"
   ]
  },
  {
   "cell_type": "markdown",
   "id": "35760c39",
   "metadata": {},
   "source": [
    "Разработать **ML-сервис на FastAPI**, который:\n",
    "\n",
    "1. Принимает **изображение** в запросе (через `UploadFile`).\n",
    "2. Выполняет **обработку изображения** с помощью модели (детекция или сегментация).\n",
    "3. Возвращает **изображение с нанесёнными предсказаниями** (bounding boxes, маски и т.п.) в виде ответа (`StreamingResponse` или `FileResponse`).\n",
    "\n",
    "**Требования:**\n",
    "\n",
    "* Валидация входных данных.\n",
    "* Автоматическая документация доступна в `/docs`.\n",
    "* Результат работы можно протестировать напрямую через Swagger UI.\n",
    "\n",
    "**Дополнительно (по желанию):**\n",
    "\n",
    "* Добавить логирование времени инференса.\n",
    "* Вернуть вместе с изображением JSON с координатами детекций.\n"
   ]
  }
 ],
 "metadata": {
  "kernelspec": {
   "display_name": ".fastapi (3.12.2)",
   "language": "python",
   "name": "python3"
  },
  "language_info": {
   "name": "python",
   "version": "3.12.2"
  }
 },
 "nbformat": 4,
 "nbformat_minor": 5
}
